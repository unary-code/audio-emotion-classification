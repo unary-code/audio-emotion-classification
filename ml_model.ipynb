{
 "cells": [
  {
   "cell_type": "code",
   "execution_count": 1,
   "metadata": {},
   "outputs": [
    {
     "name": "stdout",
     "output_type": "stream",
     "text": [
      "401 - Unauthorized\n"
     ]
    }
   ],
   "source": [
    "!kaggle competitions download -c elec-378-sp-2025-audio-emotion-classification"
   ]
  },
  {
   "cell_type": "code",
   "execution_count": 2,
   "metadata": {},
   "outputs": [
    {
     "name": "stdout",
     "output_type": "stream",
     "text": [
      "h\n"
     ]
    }
   ],
   "source": [
    "print('h')"
   ]
  },
  {
   "cell_type": "code",
   "execution_count": null,
   "metadata": {},
   "outputs": [],
   "source": [
    "import librosa\n",
    "import librosa.display\n",
    "import numpy as np\n",
    "import torch\n",
    "import matplotlib.pyplot as plt\n",
    "\n",
    "PATH_TO_TRAIN = \n",
    "\n",
    "# Load the audio file\n",
    "y, sr = librosa.load(\"your_audio.wav\", sr=None)  # sr=None keeps original sample rate\n"
   ]
  },
  {
   "cell_type": "code",
   "execution_count": null,
   "metadata": {},
   "outputs": [],
   "source": [
    "import librosa.display\n",
    "import matplotlib.pyplot as plt\n",
    "\n",
    "# Compute mel spectrogram\n",
    "S = librosa.feature.melspectrogram(y=y, sr=sr, n_mels=128)       #Converts Audio to Spectrogram\n",
    "S_dB = librosa.power_to_db(S, ref=np.max)   #To decivels\n",
    "\n",
    "# Optional: visualize it\n",
    "plt.figure(figsize=(10, 4))\n",
    "librosa.display.specshow(S_dB, sr=sr, x_axis='time', y_axis='mel')\n",
    "plt.colorbar(format='%+2.0f dB')\n",
    "plt.title('Mel spectrogram')\n",
    "plt.tight_layout()\n",
    "plt.show()"
   ]
  },
  {
   "cell_type": "code",
   "execution_count": null,
   "metadata": {},
   "outputs": [],
   "source": [
    "# Extract MFCC features\n",
    "# mfccs = librosa.feature.mfcc(y=y, sr=sr, n_mfcc=13)\n",
    "\n",
    "# # Optional: visualize it\n",
    "# plt.figure(figsize=(10, 4))\n",
    "# librosa.display.specshow(mfccs, x_axis='time', sr=sr)\n",
    "# plt.colorbar()\n",
    "# plt.title('MFCC')\n",
    "# plt.tight_layout()\n",
    "# plt.show()\n",
    "\n",
    "# Both Mel spectrograms and MFCCs return a 2D NumPy array:\n",
    "# Shape: (n_features, time_frames)"
   ]
  },
  {
   "cell_type": "code",
   "execution_count": null,
   "metadata": {},
   "outputs": [],
   "source": [
    "# Step 3: Convert to PyTorch Tensor (CNN expects 3D: [channels, height, width])\n",
    "mel_tensor = torch.tensor(S_dB).unsqueeze(0)  # shape: [1, 128, T]                      \n",
    "print(\"Mel Tensor Shape:\", mel_tensor.shape)"
   ]
  },
  {
   "cell_type": "code",
   "execution_count": null,
   "metadata": {},
   "outputs": [],
   "source": [
    "batch = torch.stack([mel_tensor, mel_tensor, ...])  # shape: [B, 1, 128, T]\n",
    "\n"
   ]
  },
  {
   "cell_type": "code",
   "execution_count": null,
   "metadata": {},
   "outputs": [],
   "source": [
    "class AudioCNN(nn.Module):\n",
    "    def __init__(self, num_classes=7):\n",
    "        super(AudioCNN, self).__init__()\n",
    "\n",
    "        self.conv_block1 = nn.Sequential(\n",
    "            nn.Conv2d(1, 16, kernel_size=3, stride=1, padding=1),  # input: [B, 1, 128, T]\n",
    "            nn.BatchNorm2d(16),\n",
    "            nn.ReLU(),\n",
    "            nn.MaxPool2d(kernel_size=(2, 2))  # output: [B, 16, 64, T/2]\n",
    "        )\n",
    "\n",
    "        self.conv_block2 = nn.Sequential(\n",
    "            nn.Conv2d(16, 32, kernel_size=3, stride=1, padding=1),\n",
    "            nn.BatchNorm2d(32),\n",
    "            nn.ReLU(),\n",
    "            nn.MaxPool2d(kernel_size=(2, 2))  # output: [B, 32, 32, T/4]\n",
    "        )\n",
    "\n",
    "        self.conv_block3 = nn.Sequential(\n",
    "            nn.Conv2d(32, 64, kernel_size=3, stride=1, padding=1),\n",
    "            nn.BatchNorm2d(64),\n",
    "            nn.ReLU(),\n",
    "            nn.AdaptiveMaxPool2d((4, 4))  # output: [B, 64, 4, 4] — fixed size!\n",
    "        )\n",
    "\n",
    "        self.fc = nn.Sequential(\n",
    "            nn.Flatten(),                # [B, 64*4*4]\n",
    "            nn.Linear(64 * 4 * 4, 128),\n",
    "            nn.ReLU(),\n",
    "            nn.Dropout(0.3),\n",
    "            nn.Linear(128, num_classes)\n",
    "        )\n",
    "\n",
    "    def forward(self, x):\n",
    "        x = self.conv_block1(x)\n",
    "        x = self.conv_block2(x)\n",
    "        x = self.conv_block3(x)\n",
    "        x = self.fc(x)\n",
    "        return x"
   ]
  },
  {
   "cell_type": "markdown",
   "id": "d764c425",
   "metadata": {},
   "source": [
    "# Example Usage of the CNN\n",
    "# Notes\n",
    "# You may need to pad or crop your input spectrograms to a consistent time dimension (e.g., 128x173).\n",
    "\n",
    "# If you have varying lengths, consider using torch.nn.AdaptiveAvgPool2d or padding logic in a custom Dataset.\n",
    "\n",
    "#  Next Steps:\n",
    "# Want help building the Dataset and DataLoader to feed .wav files through this pipeline?\n",
    "# Or want to include MFCC or augmentation options?"
   ]
  },
  {
   "cell_type": "code",
   "execution_count": null,
   "metadata": {},
   "outputs": [],
   "source": [
    "\n",
    "# Simulate a single input: [batch, channels, height, width]\n",
    "dummy_input = torch.randn(1, 1, 128, 173)  # 128 Mel bands, ~173 time frames\n",
    "model = AudioCNN(num_classes=7)\n",
    "output = model(dummy_input)\n",
    "\n",
    "print(\"Output shape:\", output.shape)  # [1, 7]\n"
   ]
  }
 ],
 "metadata": {
  "kernelspec": {
   "display_name": "base",
   "language": "python",
   "name": "python3"
  },
  "language_info": {
   "codemirror_mode": {
    "name": "ipython",
    "version": 3
   },
   "file_extension": ".py",
   "mimetype": "text/x-python",
   "name": "python",
   "nbconvert_exporter": "python",
   "pygments_lexer": "ipython3",
   "version": "3.8.8"
  }
 },
 "nbformat": 4,
 "nbformat_minor": 5
}
